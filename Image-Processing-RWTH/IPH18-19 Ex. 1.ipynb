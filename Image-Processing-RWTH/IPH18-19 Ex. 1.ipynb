{
 "cells": [
  {
   "cell_type": "markdown",
   "metadata": {},
   "source": [
    "<h3>A Brief Introduction to Python</h3>\n",
    "\n",
    "Python is an interpreted high-level general-purpose programming language. Contrary to C-like languages, it uses the off-side rule: blocks in Python are expressed by their indentation. An increase in indentation comes after certain statements; a decrease in indentation signifies the end of the current block. Have a look at the following Python code block:"
   ]
  },
  {
   "cell_type": "markdown",
   "metadata": {},
   "source": [
    "<h1>Image Processing and Handling WS 2018/19</h1>\n",
    "\n",
    "Exercise instructor: Marko Jovanović, mjovanovic@mi.rwth-aachen.de\n",
    "\n",
    "<strong style=\"color: red\">Notice: </strong>Attendance to <strong>all</strong> exercises sessions <strong>is mandatory</strong>. However, submitted exercise solutions aren't graded nor they present a prerequiste for the exam, but you will receive feedback on your submitted solutions.\n",
    "\n",
    "The exercise sessions are held from 12.30-14.00 on the following dates at COMA 1:\n",
    "\n",
    "<strong>22.10.2018 - OpenCV and Python intro (this session)</strong><br />\n",
    "05.11.2018 - Image Enhancement<br />\n",
    "19.11.2018 - Fourier Transform<br />\n",
    "03.12.2018 - Visualization<br />\n",
    "17.12.2018 - Automation<br />\n",
    "14.01.2019 - Low-level Image Segmentation<br />\n",
    "21.01.2019 - High-level Image Segmentation<br />\n",
    "28.01.2019 - Solving a Problem<br />\n",
    "\n",
    "The topics are an orientation and subject to change, in accordance with the lectures.\n",
    "\n",
    "<h2>Exercise 1: Introduction to OpenCV and Python</h2>\n",
    "\n",
    "Due date: <strong>29.10.2018</strong>\n",
    "\n",
    "<h3>List of Tasks</h3>\n",
    "<ul>\n",
    "    <li><a href=\"#task1\">Task 1 for Warming Up: Basic Image Manipulation</a></li>\n",
    "    <li><a href=\"#task2\">Task 2: Basic Adjustments of Brightness and Contrast</a></li>\n",
    "    <li><a href=\"#task3\">Task 3: Image Rotation</a></li>\n",
    "</ul>\n",
    "\n",
    "In this course, you will get introduced to Python and OpenCV. Python is a popular interpreted programming language, which is designed with readability in mind and is relatively easy for beginners to grasp. OpenCV is a popular computer vision library, with bindings for C++, Python and Java.\n",
    "\n",
    "You won't need anything else than this Jupyter notebook in order to write and execute your code. Code you write in the code cells here can be directly executed by selecting a cell and hitting the run button in the main menu. Do not hesitate to contact your course instructor, in case you are experiencing any technical difficulties with Jupyter Notebook."
   ]
  },
  {
   "cell_type": "code",
   "execution_count": 2,
   "metadata": {},
   "outputs": [],
   "source": [
    "def is_even(a):\n",
    "    if a % 2 == 0:\n",
    "        print('Even!')\n",
    "        return True\n",
    "    print('Odd!')\n",
    "    return False"
   ]
  },
  {
   "cell_type": "markdown",
   "metadata": {},
   "source": [
    "Python is meant to be an easily readable language. In the above example, the colons (:) are part of the Python langage syntax for readability and are obligatory (see http://effbot.org/pyfaq/why-are-colons-required-for-the-if-while-def-class-statements.htm ). On the other hand, semicolons (;) after statements are optional. \n",
    "\n",
    "Python does have a lot going for it in terms of simplicity. There is a rich set of modules associated with it. In many ways, it is \"easier\" to do things in Python, but you still have to seek out the libraries, learn what's available, and work through writing code to implement whatever problem you are trying to solve.\n",
    "\n",
    "<h4>The Python Interpreter</h4>\n",
    "Python comes with an interactive interface, which allows you to evaluate statements on the fly. Python starts a prompt with '>>>'. To exit the Python interactive interface, press Ctrl-D.\n",
    "\n",
    "To run a python script, simply type in your shell (for this, you need to open a shell on your computer with Python installed):\n",
    "<code>$ python filename.py</code>\n",
    "\n",
    "<h4>Python Libraries You Will Need for the Exercises</h4>\n",
    "If you want to run your code on your own computer, here is a list of Python libraries you woud need to install additionally to installing Python:\n",
    "\n",
    "<h5>NumPy</h5>\n",
    "NumPy is a scientific computing package for Python. It provides a multidimensional array object, various derived objects (such as masked arrays and matrices), and a plethora of routines for fast operations on arrays: mathematical, logical, shape manipulation, sorting, selecting, I/O, discrete Fourier Transforms, basic linear algebra, basic statistics, random simulation and many more. Thus it resembles a Matlab-ish way of thinking and operation.\n",
    "\n",
    "At the core of the NumPy package is the <em>ndarray</em> object. This encapsulates n-dimensional arrays of homogeneous data types, with many operations being performed in compiled code for performance. There are some important differences to standard Python which you need to bear in mind when working with NumPy:\n",
    "<ul>\n",
    "<li>NumPy arrays have a fixed size at creation, unlike Python lists\n",
    "(which can grow dynamically). Changing the size of an <em class=\"xref py py-obj\">ndarray</em> will\n",
    "create a new array and delete the original.</li>\n",
    "<li>The elements in a NumPy array are all required to be of the same\n",
    "data type, and thus will be the same size in memory.  The exception:\n",
    "one can have arrays of (Python, including NumPy) objects, thereby\n",
    "allowing for arrays of different sized elements.</li>\n",
    "<li>NumPy arrays facilitate advanced mathematical and other types of\n",
    "operations on large numbers of data.  Typically, such operations are\n",
    "executed more efficiently and with less code than it is possible using\n",
    "Python’s built-in sequences.</li>\n",
    "<li>A growing plethora of scientific and mathematical Python-based\n",
    "packages are using NumPy arrays; though these typically support\n",
    "Python-sequence input, they convert such input to NumPy arrays prior\n",
    "to processing, and they often output NumPy arrays.  In other words,\n",
    "in order to efficiently use much (perhaps even most) of today’s\n",
    "scientific/mathematical Python-based software, just knowing how to\n",
    "use Python’s built-in sequence types is insufficient - one also\n",
    "needs to know how to use NumPy arrays.</li>\n",
    "</ul>\n",
    "\n",
    "<h5>matplotlib</h5>\n",
    "Matplotlib is a Python 2D plotting library which produces publication quality figures in a variety of hardcopy formats and interactive environments across platforms. Matplotlib can be used in Python scripts, the Python and IPython shells, the Jupyter notebook, web application servers, and four graphical user interface toolkits.\n",
    "\n",
    "Matplotlib tries to make easy things easy and hard things possible. You can generate plots, histograms, power spectra, bar charts, errorcharts, scatterplots, etc., with just a few lines of code. For examples, see the <a href=\"https://matplotlib.org/tutorials/introductory/sample_plots.html\" target=\"_blank\">sample plots</a> and <a href=\"https://matplotlib.org/gallery/index.html\" target=\"_blank\">thumbnail gallery</a>.\n",
    "\n",
    "<h5>OpenCV</h5>\n",
    "<a href=\"https://opencv.org\" target=\"_blank\">OpenCV</a> (Open Source Computer Vision Library) is a cross-platform image processing library which is free for both academic and commercial use under the open-source BSD license. OpenCV is written in C++ and its primary interface is in C++, but it still retains a C interface. However, there are also several bindings available: Python, Java, MATLAB/OCTAVE. Enabled with OpenCL, it can take advantage of the hardware acceleration of the underlying heterogeneous compute platform. Usage ranges from interactive art, to mines inspection, stitching maps on the web or through advanced robotics. We will make extensive use of some of OpenCV's capabilities throughout this exercise course.\n",
    "\n",
    "<h4>Python Basics</h4>\n",
    "\n",
    "In order to get started with writing your code in Python, we are giving you here a short introductory tutorial on Python syntax. However, this tutorial is very basic and we strongly encourage you though to look for further tutorials online.\n",
    "\n",
    "Python has <strong>no mandatory statement termination characters</strong> and <strong>blocks are specified by indentation.</strong> \n",
    "\n",
    "<h5>A Fairly Easy, Self-Explanatory Code Sample</h5>"
   ]
  },
  {
   "cell_type": "code",
   "execution_count": null,
   "metadata": {},
   "outputs": [],
   "source": [
    "x = 34 - 23             # A comment.\n",
    "y = \"Hello\"             # Another one.\n",
    "z = 3.45\n",
    "if z == 3.45 or y == \"Hello\":\n",
    "  x = x + 1\n",
    "  y = y + \"World\"       # String concat.\n",
    "print(x)\n",
    "print(y)"
   ]
  },
  {
   "cell_type": "markdown",
   "metadata": {},
   "source": [
    "To see the output of the above code example, first click on the above cell to select it and then click on the Run button in your Jupyter notebook's main menu. Note that the parentheses in print() are obligatory in Python 3, but in Python 2 they can be omitted.\n",
    "\n",
    "Let's continue with the introduction of some basic operators:\n",
    "<ul>\n",
    "    <li>Assignment uses <code>=</code> and comparison uses <code>==</code></li>\n",
    "    <li>For numbers <code>+ - * / %</code> are as expected.</li>\n",
    "    <li>Special use of <code>+</code> for string concatenation.</li>\n",
    "    <li>Special use of <code>%</code> for string formatting (as with printf in C)</li>\n",
    "    <li>Logical operators are the words: <code>and, or, not</code> (not symbols)</li>\n",
    "    <li>The basic printing command is <code>print</code></li>\n",
    "    <li>The first assignment to a variable creates it.</li>\n",
    "    <li>Variable types don’t need to be declared.</li>\n",
    "    <li>Python figures out the variable types on its own (Python features a dynamic type system).</li>\n",
    "</ul>\n",
    "\n",
    "<h5>Basic Datatypes</h5>\n",
    "<ul>\n",
    "    <li>Integers (which are default for numbers!)\n",
    "        <code>z = 5 / 2    # Answer is 2, integer division.</code>\n",
    "    </li>\n",
    "    <li>Floats\n",
    "        <code>x = 3.14159</code>\n",
    "    </li>\n",
    "    <li>Strings\n",
    "        Both single and double quotes are allowed to specify:\n",
    "        <code>\"abc\"</code> and <code>'abc'</code> represent the same string.\n",
    "        Unmatched quotes are allowed to occur in a string: <code>\"OpenCV's great\"</code>\n",
    "        Multiline strings or strings that containg both single and double quotes make use of triple double-quotes:\n",
    "        <code>\"\"\"a'b\"c\"\"\"</code>\n",
    "</ul>"
   ]
  },
  {
   "cell_type": "code",
   "execution_count": null,
   "metadata": {},
   "outputs": [],
   "source": [
    "# Run this example to see the output of a\n",
    "a = \"\"\"a'b\"c\"\"\n",
    "XYZ\"\"\";\n",
    "print(a)"
   ]
  },
  {
   "cell_type": "markdown",
   "metadata": {},
   "source": [
    "<h5>Whitespace in Python</h5>\n",
    "\n",
    "Unlike in C-like languages, whitespace has a special meaning in Python and needs to be used with care:\n",
    "<ul>\n",
    "    <li>Use a newline to end a line of code.\n",
    "        If you need to go to next line prematurely, end line with a <code>\\</code>\n",
    "    </li>\n",
    "    <li>Python never uses braces <code>{ }</code> to mark blocks of code in Python. Instead, Python uses <em>consistent</em> indentation: The first line with <em>less</em> indentation is outside of the block. The first line with <em>more</em> indentation starts a nested block.\n",
    "    </li>\n",
    "    <li>Often, a colon appears at the start of a new block (e.g. for function and class definitions).</li>\n",
    "</ul>\n",
    "\n",
    "<h5>Comments</h5>\n",
    "<ul>\n",
    "    <li>Start comments with a <code>#</code>. A comment started with a <code></code> ends at the end of the line</li>\n",
    "    <li>Can include a \"documentation string\" as the first line of any new function or class you define. The dev environment, debugger, and other tools use it: it's considered good style to include one.</li>\n",
    "</ul>"
   ]
  },
  {
   "cell_type": "code",
   "execution_count": 4,
   "metadata": {},
   "outputs": [],
   "source": [
    "def my_function(x, y):\n",
    "  \"\"\"This is the docstring. This \n",
    "  function does blah blah blah.\"\"\"\n",
    "  # The code would go here..."
   ]
  },
  {
   "cell_type": "markdown",
   "metadata": {},
   "source": [
    "<h5>Variable assignment</h5>\n",
    "\n",
    "Binding a variable in Python means setting a <em>name</em> to hold a <em>reference</em> to some <em>object</em>. Assignments create references, not copies."
   ]
  },
  {
   "cell_type": "code",
   "execution_count": null,
   "metadata": {},
   "outputs": [],
   "source": [
    "a = [1, 2, 3] # a now references the list [1, 2, 3]\n",
    "b = a         # b now references what a references\n",
    "a.append(4)   # this changes the list a references \n",
    "print(b)      # b is a reference to the same list"
   ]
  },
  {
   "cell_type": "markdown",
   "metadata": {},
   "source": [
    "Names in Python do not have an intrinsic type. Objects have types. Python determines the type of the reference automatically based on the data object assigned to it.\n",
    "\n",
    "You create a name the first time it appears on the left side of an assignment expression: <pre>x = 3</pre>\n",
    "\n",
    "A reference is deleted via garbage collection after any names bound to it have passed out of scope. Trying to access a name before it's been properly created (by placing it on the left side of an assignment), you'll get an error."
   ]
  },
  {
   "cell_type": "code",
   "execution_count": 5,
   "metadata": {},
   "outputs": [
    {
     "ename": "NameError",
     "evalue": "name 'nonexistingvar' is not defined",
     "output_type": "error",
     "traceback": [
      "\u001b[0;31m---------------------------------------------------------------------------\u001b[0m",
      "\u001b[0;31mNameError\u001b[0m                                 Traceback (most recent call last)",
      "\u001b[0;32m<ipython-input-5-0960931969bf>\u001b[0m in \u001b[0;36m<module>\u001b[0;34m()\u001b[0m\n\u001b[0;32m----> 1\u001b[0;31m \u001b[0mnonexistingvar\u001b[0m\u001b[0;34m\u001b[0m\u001b[0m\n\u001b[0m",
      "\u001b[0;31mNameError\u001b[0m: name 'nonexistingvar' is not defined"
     ]
    }
   ],
   "source": [
    "nonexistingvar"
   ]
  },
  {
   "cell_type": "code",
   "execution_count": 6,
   "metadata": {},
   "outputs": [
    {
     "data": {
      "text/plain": [
       "3"
      ]
     },
     "execution_count": 6,
     "metadata": {},
     "output_type": "execute_result"
    }
   ],
   "source": [
    "nonexistingvar = 3\n",
    "nonexistingvar"
   ]
  },
  {
   "cell_type": "markdown",
   "metadata": {},
   "source": [
    "Assigning multiple names at the same time is a nice Python feature:"
   ]
  },
  {
   "cell_type": "code",
   "execution_count": 7,
   "metadata": {},
   "outputs": [
    {
     "name": "stdout",
     "output_type": "stream",
     "text": [
      "2\n",
      "3\n"
     ]
    }
   ],
   "source": [
    "x, y = 2, 3\n",
    "print(x)\n",
    "print(y)"
   ]
  },
  {
   "cell_type": "markdown",
   "metadata": {},
   "source": [
    "Names are case sensitive and cannot start with a number. They can contain letters, numbers and underscores:\n",
    "<code>mip Mip _mip _18_mip_ mip_18 MiP18</code>\n",
    "The following is a list of reserved words in Python:\n",
    "<code>and, assert, break, class, continue, def, del, elif, \n",
    "else, except, exec, finally, for, from, global, if, \n",
    "import, in, is, lambda, not, or, pass, print, raise, \n",
    "return, try, while</code>\n",
    "\n",
    "<h5>Sequence Types</h5>\n",
    "Python offers several sequence types:\n",
    "\n",
    "<ul>\n",
    "    <li>\n",
    "        <strong>Tuples</strong><br />\n",
    "        A simple <em>immutable</em> ordered sequence of items. The items can be of mixes types, including collection types.\n",
    "    </li>\n",
    "    <li>\n",
    "        <strong>Strings</strong><br />\n",
    "        Immutable, and conceptually very similar to tuples.\n",
    "    </li>\n",
    "    <li>\n",
    "        <strong>List</strong><br />\n",
    "        <em>Mutable</em> ordered sequence of items of mixed types\n",
    "    </li>\n",
    "</ul>\n",
    "\n",
    "All three sequence types (tuples, strings and lists) share much of the same syntax and functionality. The key difference is that tuples and strings are immutable whereas lists are mutable. Immutable types can't be cahnged. If you need to change an immutable type, you would need to make a fresh tuple and assign its reference to a previously used name.\n",
    "\n",
    "Let's have a look on how to define each of the sequence types:"
   ]
  },
  {
   "cell_type": "code",
   "execution_count": 8,
   "metadata": {},
   "outputs": [],
   "source": [
    "# tuples are defined using parentheses:\n",
    "tu = (23, 'abc', 4.56, (2,3), 'def')\n",
    "\n",
    "# lists are defined using square brackets:\n",
    "li = [\"abc\", 2.71, 42]\n",
    "\n",
    "# strings are defined using quotes (\", ', or \"\"\"):\n",
    "st1 = \"Hello World\"\n",
    "st2 = 'Hello World'\n",
    "st_multiline = \"\"\"This is a multi-line\n",
    "string that spans\n",
    "three lines\"\"\""
   ]
  },
  {
   "cell_type": "markdown",
   "metadata": {},
   "source": [
    "Access of elements of a tuple, list or string is <strong>zero-based</strong>:"
   ]
  },
  {
   "cell_type": "code",
   "execution_count": 10,
   "metadata": {},
   "outputs": [
    {
     "name": "stdout",
     "output_type": "stream",
     "text": [
      "abc\n",
      "42\n",
      "H\n"
     ]
    }
   ],
   "source": [
    "print(tu[1]) # second item in tuple\n",
    "print(li[2]) # third item in list\n",
    "print(st1[0]) # first character in the string"
   ]
  },
  {
   "cell_type": "markdown",
   "metadata": {},
   "source": [
    "Python, however, allows <strong>negative indices</strong> too! Negative indices count from right, starting with -1:"
   ]
  },
  {
   "cell_type": "code",
   "execution_count": 11,
   "metadata": {},
   "outputs": [
    {
     "name": "stdout",
     "output_type": "stream",
     "text": [
      "def\n"
     ]
    }
   ],
   "source": [
    "print(tu[-1])"
   ]
  },
  {
   "cell_type": "markdown",
   "metadata": {},
   "source": [
    "You can also return copies of subsets. This operation is called <strong>slicing</strong> in Python:"
   ]
  },
  {
   "cell_type": "code",
   "execution_count": 12,
   "metadata": {
    "scrolled": true
   },
   "outputs": [
    {
     "data": {
      "text/plain": [
       "('abc', 4.56, (2, 3))"
      ]
     },
     "execution_count": 12,
     "metadata": {},
     "output_type": "execute_result"
    }
   ],
   "source": [
    "tu[1:4]"
   ]
  },
  {
   "cell_type": "markdown",
   "metadata": {},
   "source": [
    "Slicing supports <strong>negative indices</strong>, too:"
   ]
  },
  {
   "cell_type": "code",
   "execution_count": 16,
   "metadata": {},
   "outputs": [
    {
     "data": {
      "text/plain": [
       "('abc', 4.56, (2, 3))"
      ]
     },
     "execution_count": 16,
     "metadata": {},
     "output_type": "execute_result"
    }
   ],
   "source": [
    "tu[1:-1]"
   ]
  },
  {
   "cell_type": "markdown",
   "metadata": {},
   "source": [
    "Note that slicing starts copying at the first index, and stops copying <em>before</em> the second index.\n",
    "\n",
    "Omitting indices is also possible. Omit the first index to make a copy from the beginning of the container. Omit the last index to make a copy until the end of the container. Omit both to make a <em>copy</em> of the entire sequence."
   ]
  },
  {
   "cell_type": "code",
   "execution_count": 19,
   "metadata": {},
   "outputs": [
    {
     "data": {
      "text/plain": [
       "(23, 'abc', 4.56)"
      ]
     },
     "execution_count": 19,
     "metadata": {},
     "output_type": "execute_result"
    }
   ],
   "source": [
    "tu[:3]"
   ]
  },
  {
   "cell_type": "code",
   "execution_count": 20,
   "metadata": {},
   "outputs": [
    {
     "data": {
      "text/plain": [
       "(4.56, (2, 3), 'def')"
      ]
     },
     "execution_count": 20,
     "metadata": {},
     "output_type": "execute_result"
    }
   ],
   "source": [
    "tu[-3:]"
   ]
  },
  {
   "cell_type": "code",
   "execution_count": 18,
   "metadata": {},
   "outputs": [
    {
     "data": {
      "text/plain": [
       "(23, 'abc', 4.56, (2, 3), 'def')"
      ]
     },
     "execution_count": 18,
     "metadata": {},
     "output_type": "execute_result"
    }
   ],
   "source": [
    "tu[:]"
   ]
  },
  {
   "cell_type": "markdown",
   "metadata": {},
   "source": [
    "Unlike immutable tuples and strings, <strong>lists can be changed in place</strong>:"
   ]
  },
  {
   "cell_type": "code",
   "execution_count": 21,
   "metadata": {},
   "outputs": [
    {
     "data": {
      "text/plain": [
       "['abc', 2.71, 653, 42, 'newelement']"
      ]
     },
     "execution_count": 21,
     "metadata": {},
     "output_type": "execute_result"
    }
   ],
   "source": [
    "li[1]\n",
    "li.append('newelement')\n",
    "li.insert(2, 653)\n",
    "li"
   ]
  },
  {
   "cell_type": "markdown",
   "metadata": {},
   "source": [
    "Further, we have <code>append</code>, <code>extend</code> and the <code>+</code> operator. The <code>+</code> operator creates a new list, with a new memory reference, whereas <code>extend</code> operates in place:"
   ]
  },
  {
   "cell_type": "code",
   "execution_count": 22,
   "metadata": {},
   "outputs": [
    {
     "data": {
      "text/plain": [
       "['abc', 2.71, 653, 42, 'newelement', 77, 88, 99]"
      ]
     },
     "execution_count": 22,
     "metadata": {},
     "output_type": "execute_result"
    }
   ],
   "source": [
    "li.extend([77,88,99])\n",
    "li"
   ]
  },
  {
   "cell_type": "code",
   "execution_count": 23,
   "metadata": {},
   "outputs": [
    {
     "data": {
      "text/plain": [
       "['abc', 2.71, 653, 42, 'newelement', 77, 88, 99, ['alfa', 'beta', 'gamma']]"
      ]
     },
     "execution_count": 23,
     "metadata": {},
     "output_type": "execute_result"
    }
   ],
   "source": [
    "li.append(['alfa','beta','gamma'])\n",
    "li"
   ]
  },
  {
   "cell_type": "markdown",
   "metadata": {},
   "source": [
    "Note the difference: Whereas <code>extend</code> takes a list as an argument and appends every list item to the list to be extended, <code>append</code> takes a singleton as an argument, and adds the singleton as a single item to the original list.\n",
    "\n",
    "Here are some further useful operations, which are self-explanatory:"
   ]
  },
  {
   "cell_type": "code",
   "execution_count": 24,
   "metadata": {},
   "outputs": [
    {
     "data": {
      "text/plain": [
       "1"
      ]
     },
     "execution_count": 24,
     "metadata": {},
     "output_type": "execute_result"
    }
   ],
   "source": [
    "li = ['a','b','c','d']\n",
    "li.index('b')"
   ]
  },
  {
   "cell_type": "code",
   "execution_count": 25,
   "metadata": {},
   "outputs": [
    {
     "data": {
      "text/plain": [
       "1"
      ]
     },
     "execution_count": 25,
     "metadata": {},
     "output_type": "execute_result"
    }
   ],
   "source": [
    "li.count('b')"
   ]
  },
  {
   "cell_type": "code",
   "execution_count": 26,
   "metadata": {},
   "outputs": [
    {
     "data": {
      "text/plain": [
       "['a', 'c', 'd']"
      ]
     },
     "execution_count": 26,
     "metadata": {},
     "output_type": "execute_result"
    }
   ],
   "source": [
    "li.remove('b')\n",
    "li"
   ]
  },
  {
   "cell_type": "code",
   "execution_count": 27,
   "metadata": {},
   "outputs": [
    {
     "data": {
      "text/plain": [
       "['d', 'c', 'a']"
      ]
     },
     "execution_count": 27,
     "metadata": {},
     "output_type": "execute_result"
    }
   ],
   "source": [
    "li.reverse()\n",
    "li"
   ]
  },
  {
   "cell_type": "code",
   "execution_count": 28,
   "metadata": {},
   "outputs": [
    {
     "data": {
      "text/plain": [
       "['a', 'c', 'd']"
      ]
     },
     "execution_count": 28,
     "metadata": {},
     "output_type": "execute_result"
    }
   ],
   "source": [
    "li.sort()\n",
    "li"
   ]
  },
  {
   "cell_type": "markdown",
   "metadata": {},
   "source": [
    "Takeaway message: lists perform slower but are more powerful than tuples. Unlike tuples, lists can be modified. When needed, one can convert between tuples and lists using the <code>list()</code> and <code>tuple()</code> functions:\n",
    "<pre>\n",
    "li = list(tu)\n",
    "tu = tuple(li)\n",
    "</pre>\n",
    "\n",
    "<h5>Functions</h5>\n",
    "\n",
    "Functions are declared with the <code>def</code> keyword. Optional arguments are set in the function declaration after the mandatory arguments are being assigned a default value. For named arguments, the name of the argument is assigned a value. Functions can return a tuple (and using tuple unpacking you can effectively return multiple values).\n",
    "\n",
    "Lambda functions are ad hoc functions that are comprised of a single statement. Parameters are passed by reference, but immutable types (tuples, ints, strings, etc) cannot be changed in the caller by the callee. This is because only the memory location of the item is passed, and binding another object to a variable discards the old one, so immutable types are replaced.\n",
    "\n",
    "Have a look at the following code example:"
   ]
  },
  {
   "cell_type": "code",
   "execution_count": null,
   "metadata": {},
   "outputs": [],
   "source": [
    "# Same as def funcvar(x): return x + 1\n",
    "\n",
    "funcvar = lambda x: x + 1\n",
    "print(funcvar(1))\n",
    "# 2\n",
    "\n",
    "# an_int and a_string are optional, they have default values\n",
    "# if one is not passed (2 and \"A default string\", respectively).\n",
    "\n",
    "def passing_example(a_list, an_int=2, a_string=\"A default string\"):\n",
    "    a_list.append(\"A new item\")\n",
    "    an_int = 4\n",
    "    return a_list, an_int, a_string\n",
    "\n",
    "my_list = [1, 2, 3]\n",
    "my_int = 10\n",
    "print(passing_example(my_list, my_int))\n",
    "# ([1, 2, 3, 'A new item'], 4, \"A default string\")\n",
    "my_list\n",
    "# [1, 2, 3, 'A new item']\n",
    "my_int\n",
    "# 10"
   ]
  },
  {
   "cell_type": "markdown",
   "metadata": {},
   "source": [
    "<h5>Classes</h5>\n",
    "\n",
    "This introductory tutorial on Python does not cover the OOP paradigm."
   ]
  },
  {
   "cell_type": "markdown",
   "metadata": {},
   "source": [
    "<h3>Example 1: Working with Images in OpenCV and Python</h3>\n",
    "Have a look at the following simple python script. It draws one red and one green bar on a white canvas by setting the color of individual pixels on the canvas. Remember that in Python in order to make use of OpenCV you need to include the opencv2 library, and both numpy and matplotlib for convenience and image plotting."
   ]
  },
  {
   "cell_type": "code",
   "execution_count": null,
   "metadata": {},
   "outputs": [],
   "source": [
    "%matplotlib inline\n",
    "import cv2\n",
    "import numpy as np\n",
    "from matplotlib import pyplot as plt\n",
    "\n",
    "# Create image: it contains only white pixels\n",
    "height, width = 400, 200\n",
    "img = np.zeros((height,width,3), np.uint8)\n",
    "\n",
    "# Output the image dimensions\n",
    "print(len(img), len(img[0]), len(img[0][0]))\n",
    "\n",
    "# Output empty image data as a multidimensional array of RGB pixels\n",
    "print(img)\n",
    "\n",
    "# Fill image with a red and a green bar\n",
    "img[:, 0 : int(0.5 * width)] = (255,0,0)\n",
    "img[:, int(0.5*width) : width] = (0,255,0)\n",
    "\n",
    "plt.imshow(img)\n",
    "plt.title('New Image: Half Red, Half Green'), plt.xticks([]), plt.yticks([]);"
   ]
  },
  {
   "cell_type": "markdown",
   "metadata": {},
   "source": [
    "<strong>Hint:</strong> Run the above code by selecting the above cell and clicking on the Run button on the main menu of Jupyter Notebook to see the output."
   ]
  },
  {
   "cell_type": "markdown",
   "metadata": {},
   "source": [
    "You can run the above example by first clicking on its cell to select the cell, and then clicking on the Run button on Jupyter's main menu above.\n",
    "\n",
    "The first line of code, <code>%matplotlib inline</code>, is a so-called <em>magic function</em> in the IPython shell, which is used by the Jupyter Notebook you are using right now. Without going into many details, we'll just say that with this backend, the output of plotting commands is displayed inline within frontends like the Jupyter notebook, directly below the code cell that produced it.\n",
    "\n",
    "The import statements import necessary modules. We won't go at this point further into Python modules and importing, but we encourage you to have a look <a href=\"https://docs.python.org/2/tutorial/modules.html\">here</a> if you are interested into more details about Python modules.\n",
    "\n",
    "In general, when working with OpenCV, you could display an image with the following code block:\n",
    "\n",
    "<code>cv2.imshow('image',img)\n",
    "cv2.waitKey(0)\n",
    "cv2.destroyAllWindows()\n",
    "</code>\n",
    "\n",
    "The above code block would display an image in a window. The window would automatically fit the window size.\n",
    "\n",
    "However, we will be using a slightly different approach, in order to plot the images with matplotlib inline in Jupyter Notebook with \n",
    "\n",
    "<code>plt.imshow(img)</code>\n",
    "\n",
    "For more information on pyplot and some useful examples refer to https://matplotlib.org/users/pyplot_tutorial.html"
   ]
  },
  {
   "cell_type": "markdown",
   "metadata": {},
   "source": [
    "<h3>Example 2: Reading and Outputting an Image</h3>\n",
    "\n",
    "The following code sample shows how to read in an image and display it using matplotlib. Please note that it may take a couple of seconds for the server to render the image and send it back to your browser."
   ]
  },
  {
   "cell_type": "code",
   "execution_count": null,
   "metadata": {},
   "outputs": [],
   "source": [
    "# The matplotlib magic function and library imports\n",
    "%matplotlib inline\n",
    "import cv2\n",
    "import matplotlib.image as mpimg\n",
    "import numpy as np\n",
    "from matplotlib import pyplot as plt\n",
    "\n",
    "# Read in castle.jpg. The file is located in your Notebook's folder for this exercise session.\n",
    "img = mpimg.imread('castle.jpg')\n",
    "\n",
    "# Use the following line of code to set the image output size. The numbers represent the image's width and height\n",
    "# in inches. The original aspect ratio is nevertheless preserved and actual output size is adjusted automatically.\n",
    "plt.rcParams[\"figure.figsize\"] = (20,15)\n",
    "\n",
    "# Output the image\n",
    "plt.imshow(img)"
   ]
  },
  {
   "cell_type": "markdown",
   "metadata": {},
   "source": [
    "<a name=\"task1\"></a><h3 style=\"color: red\">Task 1 for Warming Up: Basic Image Manipulation</h3>\n",
    "\n",
    "First, read the following tutorial: https://opencv-python-tutroals.readthedocs.io/en/latest/py_tutorials/py_core/py_basic_ops/py_basic_ops.html\n",
    "\n",
    "<strong style=\"color: red\">Programming Task:</strong> Write a program which crops and flips horizontally the image, and outputs both images. Browse online for more tutorials on how to achieve that, if you are unsure."
   ]
  },
  {
   "cell_type": "code",
   "execution_count": null,
   "metadata": {},
   "outputs": [],
   "source": [
    "# The matplotlib magic function and library imports\n",
    "%matplotlib inline\n",
    "import cv2\n",
    "import matplotlib.image as mpimg\n",
    "import numpy as np\n",
    "from matplotlib import pyplot as plt\n",
    "\n",
    "img = mpimg.imread('castle.jpg')\n",
    "plt.rcParams[\"figure.figsize\"] = (20,15)\n",
    "\n",
    "# Start typing your code here.\n",
    "\n",
    "# img_cropped = ...\n",
    "# img_flipped = ...\n",
    "\n",
    "# End of your code\n",
    "\n",
    "# Output the original image, and its cropped and flipped variants\n",
    "plt.imshow(img)\n",
    "plt.imshow(img_cropped)\n",
    "plt.imshow(img_flipped)"
   ]
  },
  {
   "cell_type": "markdown",
   "metadata": {},
   "source": [
    "<a name=\"task2\"></a><h3 style=\"color: red\">Task 2: Basic Adjustments of Brightness and Contrast</h3>\n",
    "\n",
    "Brightness is an attribute of visual perception in which a source appears to be radiating or reflecting light. Contrast is the difference in brightness between objects or regions, that makes the objects distinguishable in the image. For example, a white rabbit running across a snowy field has poor contrast, while a black dog against the same white background has good contrast. \n",
    "\n",
    "<strong style=\"color: red\">Programming Task:</strong> Write a program which adjusts the images brightness and contrast. Find suitable parameters for the adjustment. Look up online the necessary functions. Note that there are several possible ways to achieve brightness and contrast adjustment."
   ]
  },
  {
   "cell_type": "code",
   "execution_count": null,
   "metadata": {},
   "outputs": [],
   "source": [
    "# The matplotlib magic function and library imports\n",
    "%matplotlib inline\n",
    "import cv2\n",
    "import matplotlib.image as mpimg\n",
    "import numpy as np\n",
    "from matplotlib import pyplot as plt\n",
    "\n",
    "img = mpimg.imread('mammogram1.png')\n",
    "plt.rcParams[\"figure.figsize\"] = (20,15)\n",
    "\n",
    "# Start typing your code here.\n",
    "\n",
    "# img_brightness = ...\n",
    "# img_contrast = ...\n",
    "\n",
    "# End of your code\n",
    "\n",
    "# Output the original and brightness- and contrast-adjusted images\n",
    "plt.imshow(img)\n",
    "plt.imshow(img_brightness)\n",
    "plt.imshow(img_contrast)"
   ]
  },
  {
   "cell_type": "markdown",
   "metadata": {},
   "source": [
    "<a name=\"task3\"></a><h3 style=\"color: red\">Task 3: Image Rotation</h3>\n",
    "\n",
    "The image you have just loaded and rendered appears to have been rotated counter-clockwise by 90 degrees. As a warm-up task, you should write a python script which rotates the image back clockwise by 90 degrees.\n",
    "\n",
    "Rotation is a type of a linear geometric transform. In two dimensions, linear geometric transforms can be represented by a 2x2 matrix.\n",
    "\n",
    "Rotation can be represented by the following matrix: \n",
    "\n",
    "$\n",
    "M =\n",
    "  \\begin{bmatrix}\n",
    "    \\cos\\theta & -\\sin\\theta\\\\\n",
    "    \\sin\\theta & \\cos\\theta\n",
    "  \\end{bmatrix}\n",
    "$\n",
    "\n",
    "where the center of rotation lies in the image center coordinates (width/2, height/2).\n",
    "\n",
    "However, OpenCV provides scaled rotation with adjustable center of rotation so that you can rotate your image at any location you prefer. Thus, we have a modified transformation matrix given by:\n",
    "\n",
    "$\n",
    "M = \n",
    "\\begin{bmatrix}\n",
    "    \\alpha & \\beta & (1-\\alpha)center_x - \\beta center_y\\\\\n",
    "    -\\beta & \\alpha & \\beta center_x+(1-\\alpha)center_u\n",
    "  \\end{bmatrix}\n",
    "$\n",
    "\n",
    "where\n",
    "\n",
    "$\\alpha = scale \\cos\\theta$,\n",
    "\n",
    "$\\beta = scale \\sin\\theta$\n",
    "\n",
    "To find this transformation matrix, OpenCV provides a function <code>cv2.getRotationMatrix2D</code>.\n",
    "\n",
    "<strong style=\"color: red\">Programming Task:</strong><br />Look up online which parameters the function does accept and how to apply the obtained rotation matrix in order to have the castle image rotated by 90 degrees.\n",
    "\n",
    "What happens if you rotate the image by angles other than multiples of 90 degrees? Is there any loss in the transformed image? If so, try to come up with a solution which preserves the whole image when rotating images by values other than multiples of 90 degrees.\n",
    "\n",
    "For the sake of convenience, we have already written the necessary library import statements and statements for image output for you."
   ]
  },
  {
   "cell_type": "code",
   "execution_count": null,
   "metadata": {},
   "outputs": [],
   "source": [
    "%matplotlib inline\n",
    "import cv2\n",
    "import matplotlib.image as mpimg\n",
    "import numpy as np\n",
    "from matplotlib import pyplot as plt\n",
    "\n",
    "img = mpimg.imread('castle.jpg')\n",
    "rows, cols, depth = img.shape\n",
    "\n",
    "# Start typing your code here\n",
    "\n",
    "# End of your code\n",
    "\n",
    "plt.rcParams[\"figure.figsize\"] = (15, 20)\n",
    "imgplotst = plt.imshow(dst)"
   ]
  }
 ],
 "metadata": {
  "kernelspec": {
   "display_name": "Python 3",
   "language": "python",
   "name": "python3"
  },
  "language_info": {
   "codemirror_mode": {
    "name": "ipython",
    "version": 3
   },
   "file_extension": ".py",
   "mimetype": "text/x-python",
   "name": "python",
   "nbconvert_exporter": "python",
   "pygments_lexer": "ipython3",
   "version": "3.6.3"
  }
 },
 "nbformat": 4,
 "nbformat_minor": 2
}
