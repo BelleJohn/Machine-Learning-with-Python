{
 "cells": [
  {
   "cell_type": "markdown",
   "metadata": {
    "button": false,
    "new_sheet": false,
    "run_control": {
     "read_only": false
    }
   },
   "source": [
    "<a href=\"https://cognitiveclass.ai\"><img src = \"https://s3-api.us-geo.objectstorage.softlayer.net/cf-courses-data/CognitiveClass/Logos/organization_logo/organization_logo.png\" width = 400> </a>\n",
    "\n",
    "<h1 align=center><font size = 5>Peer Review Final Assignment</font></h1>"
   ]
  },
  {
   "cell_type": "markdown",
   "metadata": {
    "button": false,
    "new_sheet": false,
    "run_control": {
     "read_only": false
    }
   },
   "source": [
    "## Introduction\n"
   ]
  },
  {
   "cell_type": "markdown",
   "metadata": {
    "button": false,
    "new_sheet": false,
    "run_control": {
     "read_only": false
    }
   },
   "source": [
    "In this lab, you will build an image classifier using the VGG16 pre-trained model, and you will evaluate it and compare its performance to the model we built in the last module using the ResNet50 pre-trained model. Good luck!"
   ]
  },
  {
   "cell_type": "markdown",
   "metadata": {
    "button": false,
    "new_sheet": false,
    "run_control": {
     "read_only": false
    }
   },
   "source": [
    "## Table of Contents\n",
    "\n",
    "<div class=\"alert alert-block alert-info\" style=\"margin-top: 20px\">\n",
    "\n",
    "<font size = 3>    \n",
    "\n",
    "1. <a href=\"#item41\">Download Data \n",
    "2. <a href=\"#item42\">Part 1</a>\n",
    "3. <a href=\"#item43\">Part 2</a>  \n",
    "4. <a href=\"#item44\">Part 3</a>  \n",
    "\n",
    "</font>\n",
    "    \n",
    "</div>"
   ]
  },
  {
   "cell_type": "markdown",
   "metadata": {
    "button": false,
    "new_sheet": false,
    "run_control": {
     "read_only": false
    }
   },
   "source": [
    "   "
   ]
  },
  {
   "cell_type": "markdown",
   "metadata": {},
   "source": [
    "<a id=\"item41\"></a>"
   ]
  },
  {
   "cell_type": "markdown",
   "metadata": {},
   "source": [
    "## Download Data"
   ]
  },
  {
   "cell_type": "markdown",
   "metadata": {},
   "source": [
    "Use the <code>wget</code> command to download the data for this assignment from here: https://s3-api.us-geo.objectstorage.softlayer.net/cf-courses-data/CognitiveClass/DL0321EN/data/concrete_data_week4.zip"
   ]
  },
  {
   "cell_type": "markdown",
   "metadata": {},
   "source": [
    "Use the following cells to download the data."
   ]
  },
  {
   "cell_type": "code",
   "execution_count": null,
   "metadata": {
    "scrolled": true
   },
   "outputs": [],
   "source": [
    "!wget  https://s3-api.us-geo.objectstorage.softlayer.net/cf-courses-data/CognitiveClass/DL0321EN/data/concrete_data_week4.zip"
   ]
  },
  {
   "cell_type": "code",
   "execution_count": null,
   "metadata": {},
   "outputs": [],
   "source": [
    "!unzip concrete_data_week4.zip"
   ]
  },
  {
   "cell_type": "markdown",
   "metadata": {},
   "source": [
    "After you unzip the data, you fill find the data has already been divided into a train, validation, and test sets."
   ]
  },
  {
   "cell_type": "markdown",
   "metadata": {},
   "source": [
    "  "
   ]
  },
  {
   "cell_type": "markdown",
   "metadata": {
    "button": false,
    "new_sheet": false,
    "run_control": {
     "read_only": false
    }
   },
   "source": [
    "<a id=\"item42\"></a>"
   ]
  },
  {
   "cell_type": "markdown",
   "metadata": {},
   "source": [
    "## Part 1"
   ]
  },
  {
   "cell_type": "markdown",
   "metadata": {},
   "source": [
    "In this part, you will design a classifier using the VGG16 pre-trained model. Just like the ResNet50 model, you can import the model <code>VGG16</code> from <code>keras.applications</code>."
   ]
  },
  {
   "cell_type": "markdown",
   "metadata": {},
   "source": [
    "You will essentially build your classifier as follows:\n",
    "1. Import libraries, modules, and packages you will need. Make sure to import the *preprocess_input* function from <code>keras.applications.vgg16</code>.\n",
    "2. Use a batch size of 100 images for both training and validation.\n",
    "3. Construct an ImageDataGenerator for the training set and another one for the validation set. VGG16 was originally trained on 224 × 224 images, so make sure to address that when defining the ImageDataGenerator instances.\n",
    "4. Create a sequential model using Keras. Add VGG16 model to it and dense layer.\n",
    "5. Compile the mode using the adam optimizer and the categorical_crossentropy loss function.\n",
    "6. Fit the model on the augmented data using the ImageDataGenerators."
   ]
  },
  {
   "cell_type": "markdown",
   "metadata": {},
   "source": [
    "Use the following cells to create your classifier."
   ]
  },
  {
   "cell_type": "code",
   "execution_count": 1,
   "metadata": {},
   "outputs": [],
   "source": [
    "from keras.preprocessing.image import ImageDataGenerator\n",
    "import keras\n",
    "from keras.models import Sequential\n",
    "from keras.layers import Dense\n",
    "from tensorflow.keras.applications import VGG16\n",
    "from tensorflow.keras.applications.vgg16 import preprocess_input"
   ]
  },
  {
   "cell_type": "code",
   "execution_count": 2,
   "metadata": {},
   "outputs": [],
   "source": [
    "num_classes = 2\n",
    "image_resize = 224\n",
    "batch_size_training = 100\n",
    "batch_size_validation = 100"
   ]
  },
  {
   "cell_type": "code",
   "execution_count": 3,
   "metadata": {
    "scrolled": true
   },
   "outputs": [],
   "source": [
    "#Construct an ImageDataGenerator\n",
    "data_generator = ImageDataGenerator(\n",
    "    preprocessing_function=preprocess_input,\n",
    ")"
   ]
  },
  {
   "cell_type": "code",
   "execution_count": 4,
   "metadata": {},
   "outputs": [
    {
     "name": "stdout",
     "output_type": "stream",
     "text": [
      "Found 30001 images belonging to 2 classes.\n"
     ]
    }
   ],
   "source": [
    "#Construct an ImageDataGenerator -> training set\n",
    "train_generator = data_generator.flow_from_directory(\n",
    "    'concrete_data_week4/train',\n",
    "    target_size=(image_resize, image_resize),\n",
    "    batch_size=batch_size_training,\n",
    "    class_mode='categorical')"
   ]
  },
  {
   "cell_type": "code",
   "execution_count": 5,
   "metadata": {},
   "outputs": [
    {
     "name": "stdout",
     "output_type": "stream",
     "text": [
      "Found 9501 images belonging to 2 classes.\n"
     ]
    }
   ],
   "source": [
    "#Construct an ImageDataGenerator -> validation set\n",
    "validation_generator = data_generator.flow_from_directory(\n",
    "    'concrete_data_week4/valid',\n",
    "    target_size=(image_resize, image_resize),\n",
    "    batch_size=batch_size_validation,\n",
    "    class_mode='categorical')"
   ]
  },
  {
   "cell_type": "code",
   "execution_count": 6,
   "metadata": {},
   "outputs": [],
   "source": [
    "#Create a sequential model\n",
    "model = Sequential()"
   ]
  },
  {
   "cell_type": "code",
   "execution_count": 7,
   "metadata": {},
   "outputs": [],
   "source": [
    "#Add VGG16 model and dense layer\n",
    "model.add(VGG16(\n",
    "    include_top=False,\n",
    "    pooling='avg',\n",
    "    weights='imagenet',\n",
    "    ))\n"
   ]
  },
  {
   "cell_type": "code",
   "execution_count": 8,
   "metadata": {},
   "outputs": [
    {
     "name": "stdout",
     "output_type": "stream",
     "text": [
      "Model: \"sequential\"\n",
      "_________________________________________________________________\n",
      " Layer (type)                Output Shape              Param #   \n",
      "=================================================================\n",
      " vgg16 (Functional)          (None, 512)               14714688  \n",
      "                                                                 \n",
      " dense (Dense)               (None, 2)                 1026      \n",
      "                                                                 \n",
      "=================================================================\n",
      "Total params: 14,715,714\n",
      "Trainable params: 1,026\n",
      "Non-trainable params: 14,714,688\n",
      "_________________________________________________________________\n"
     ]
    }
   ],
   "source": [
    "model.add(Dense(num_classes, activation=\"softmax\"))\n",
    "model.layers[0].trainable = False\n",
    "model.summary()"
   ]
  },
  {
   "cell_type": "code",
   "execution_count": 9,
   "metadata": {},
   "outputs": [],
   "source": [
    "#Compile the mode using the adam optimizer & the categorical_crossentropy loss function\n",
    "model.compile(optimizer='adam', loss='categorical_crossentropy', metrics=['accuracy'])"
   ]
  },
  {
   "cell_type": "code",
   "execution_count": 10,
   "metadata": {},
   "outputs": [
    {
     "name": "stdout",
     "output_type": "stream",
     "text": [
      "Epoch 1/2\n",
      "301/301 [==============================] - 6800s 23s/step - loss: 0.1106 - accuracy: 0.9589 - val_loss: 0.0263 - val_accuracy: 0.9957\n",
      "Epoch 2/2\n",
      "301/301 [==============================] - 7155s 24s/step - loss: 0.0199 - accuracy: 0.9954 - val_loss: 0.0154 - val_accuracy: 0.9965\n"
     ]
    }
   ],
   "source": [
    "steps_per_epoch_training = len(train_generator)\n",
    "steps_per_epoch_validation = len(validation_generator)\n",
    "num_epochs = 2\n",
    "#Fit the model on the augmented data using the ImageDataGenerators.\n",
    "fit_history = model.fit(\n",
    "    train_generator,\n",
    "    steps_per_epoch=steps_per_epoch_training,\n",
    "    epochs=num_epochs,\n",
    "    validation_data=validation_generator,\n",
    "    validation_steps=steps_per_epoch_validation,\n",
    "    verbose=1,\n",
    ")"
   ]
  },
  {
   "cell_type": "code",
   "execution_count": 12,
   "metadata": {},
   "outputs": [],
   "source": [
    "model.save(\"classifier_vgg16_model.h5\")"
   ]
  },
  {
   "cell_type": "markdown",
   "metadata": {},
   "source": [
    "   "
   ]
  },
  {
   "cell_type": "markdown",
   "metadata": {},
   "source": [
    "<a id=\"item43\"></a>"
   ]
  },
  {
   "cell_type": "markdown",
   "metadata": {},
   "source": [
    "## Part 2"
   ]
  },
  {
   "cell_type": "markdown",
   "metadata": {},
   "source": [
    "In this part, you will evaluate your deep learning models on a test data. For this part, you will need to do the following:\n",
    "\n",
    "1. Load your saved model that was built using the ResNet50 model. \n",
    "2. Construct an ImageDataGenerator for the test set. For this ImageDataGenerator instance, you only need to pass the directory of the test images, target size, and the **shuffle** parameter and set it to False.\n",
    "3. Use the **evaluate_generator** method to evaluate your models on the test data, by passing the above ImageDataGenerator as an argument. You can learn more about **evaluate_generator** [here](https://keras.io/models/sequential/).\n",
    "4. Print the performance of the classifier using the VGG16 pre-trained model.\n",
    "5. Print the performance of the classifier using the ResNet pre-trained model.\n"
   ]
  },
  {
   "cell_type": "markdown",
   "metadata": {},
   "source": [
    "Use the following cells to evaluate your models."
   ]
  },
  {
   "cell_type": "code",
   "execution_count": 14,
   "metadata": {},
   "outputs": [],
   "source": [
    "from keras.models import load_model\n",
    "# Step1: Load the saved ResNet50 model\n",
    "resnet50_model = load_model('classifier_resnet_model.h5')"
   ]
  },
  {
   "cell_type": "code",
   "execution_count": 15,
   "metadata": {},
   "outputs": [
    {
     "name": "stdout",
     "output_type": "stream",
     "text": [
      "Model: \"sequential\"\n",
      "_________________________________________________________________\n",
      " Layer (type)                Output Shape              Param #   \n",
      "=================================================================\n",
      " resnet50 (Functional)       (None, 2048)              23587712  \n",
      "                                                                 \n",
      " dense (Dense)               (None, 2)                 4098      \n",
      "                                                                 \n",
      "=================================================================\n",
      "Total params: 23,591,810\n",
      "Trainable params: 4,098\n",
      "Non-trainable params: 23,587,712\n",
      "_________________________________________________________________\n"
     ]
    }
   ],
   "source": [
    "# Check its architecture\n",
    "resnet50_model.summary()"
   ]
  },
  {
   "cell_type": "code",
   "execution_count": 16,
   "metadata": {},
   "outputs": [
    {
     "name": "stdout",
     "output_type": "stream",
     "text": [
      "Found 500 images belonging to 2 classes.\n"
     ]
    }
   ],
   "source": [
    "#Step2: Construct an ImageDataGenerator for the test set.\n",
    "test_generator = data_generator.flow_from_directory(\n",
    "    'concrete_data_week4/test',\n",
    "    target_size=(image_resize, image_resize),\n",
    "    batch_size=batch_size_training,\n",
    "    class_mode='categorical',\n",
    "    shuffle=False)"
   ]
  },
  {
   "cell_type": "code",
   "execution_count": 18,
   "metadata": {},
   "outputs": [
    {
     "name": "stderr",
     "output_type": "stream",
     "text": [
      "<ipython-input-18-6eddabf8f424>:4: UserWarning: `Model.evaluate_generator` is deprecated and will be removed in a future version. Please use `Model.evaluate`, which supports generators.\n",
      "  performance_vgg16 = model.evaluate_generator(test_generator)\n"
     ]
    },
    {
     "name": "stdout",
     "output_type": "stream",
     "text": [
      "Performance of the VGG16-trained model\n",
      "Loss: 0.01311\n",
      "Accuracy: 0.996\n"
     ]
    }
   ],
   "source": [
    "#Step3: Use the evaluate_generator method to evaluate your models on the test data\n",
    "#Step4: Print the performance of the classifier using the VGG16 pre-trained model.\n",
    "\n",
    "performance_vgg16 = model.evaluate_generator(test_generator)\n",
    "print(\"Performance of the VGG16-trained model\")\n",
    "print(\"Loss: {}\".format(round(performance_vgg16[0], 5)))\n",
    "print(\"Accuracy: {}\".format(round(performance_vgg16[1], 5)))\n"
   ]
  },
  {
   "cell_type": "code",
   "execution_count": 19,
   "metadata": {},
   "outputs": [
    {
     "name": "stdout",
     "output_type": "stream",
     "text": [
      "5/5 [==============================] - 35s 7s/step - loss: 0.0022 - accuracy: 1.0000\n",
      "Performance of the ResNet50-trained model\n",
      "Loss: 0.00224\n",
      "Accuracy: 1.0\n"
     ]
    }
   ],
   "source": [
    "#Step5: Print the performance of the classifier using the ResNet pre-trained model.\n",
    "performance_resnet50 = resnet50_model.evaluate(test_generator)\n",
    "print(\"Performance of the ResNet50-trained model\")\n",
    "print(\"Loss: {}\".format(round(performance_resnet50[0], 5)))\n",
    "print(\"Accuracy: {}\".format(round(performance_resnet50[1], 5)))"
   ]
  },
  {
   "cell_type": "markdown",
   "metadata": {},
   "source": [
    "   This part can be checked by this link: https://github.com/TyMick/coursera-ai-capstone/blob/master/DL0321EN-4-1-Comparing-Models-py-v1.0.ipynb"
   ]
  },
  {
   "cell_type": "markdown",
   "metadata": {},
   "source": [
    "<a id=\"item44\"></a>"
   ]
  },
  {
   "cell_type": "markdown",
   "metadata": {},
   "source": [
    "## Part 3"
   ]
  },
  {
   "cell_type": "markdown",
   "metadata": {},
   "source": [
    "In this model, you will predict whether the images in the test data are images of cracked concrete or not. You will do the following:\n",
    "\n",
    "1. Use the **predict_generator** method to predict the class of the images in the test data, by passing the test data ImageDataGenerator instance defined in the previous part as an argument. You can learn more about the **predict_generator** method [here](https://keras.io/models/sequential/).\n",
    "2. Report the class predictions of the first five images in the test set. You should print something list this:\n",
    "\n",
    "<center>\n",
    "    <ul style=\"list-style-type:none\">\n",
    "        <li>Positive</li>  \n",
    "        <li>Negative</li> \n",
    "        <li>Positive</li>\n",
    "        <li>Positive</li>\n",
    "        <li>Negative</li>\n",
    "    </ul>\n",
    "</center>"
   ]
  },
  {
   "cell_type": "markdown",
   "metadata": {},
   "source": [
    "Use the following cells to make your predictions."
   ]
  },
  {
   "cell_type": "code",
   "execution_count": 22,
   "metadata": {},
   "outputs": [],
   "source": [
    "def print_prediction(prediction):\n",
    "    if prediction[0] > prediction[1]:\n",
    "        print(\"Negative ({}% certainty)\".format(round(prediction[0] * 100, 1)))\n",
    "    elif prediction[1] > prediction[0]:\n",
    "        print(\"Positive ({}% certainty)\".format(round(prediction[1] * 100, 1)))\n",
    "    else:\n",
    "        print(\"Unsure (prediction split 50–50)\")"
   ]
  },
  {
   "cell_type": "code",
   "execution_count": 24,
   "metadata": {},
   "outputs": [
    {
     "name": "stdout",
     "output_type": "stream",
     "text": [
      "First five predictions for the VGG16-trained model:\n",
      "Negative (99.7% certainty)\n",
      "Negative (98.4% certainty)\n",
      "Negative (98.1% certainty)\n",
      "Negative (99.4% certainty)\n",
      "Negative (99.0% certainty)\n"
     ]
    }
   ],
   "source": [
    "predictions_vgg16 = model.predict(test_generator)\n",
    "print(\"First five predictions for the VGG16-trained model:\")\n",
    "for i in range(5):\n",
    "    print_prediction(predictions_vgg16[i])"
   ]
  },
  {
   "cell_type": "code",
   "execution_count": 25,
   "metadata": {},
   "outputs": [
    {
     "data": {
      "text/plain": [
       "array([[9.97464538e-01, 2.53546820e-03],\n",
       "       [9.84309435e-01, 1.56905204e-02],\n",
       "       [9.81420696e-01, 1.85792800e-02],\n",
       "       [9.94493246e-01, 5.50673530e-03],\n",
       "       [9.89515066e-01, 1.04849152e-02],\n",
       "       [9.86364961e-01, 1.36349872e-02],\n",
       "       [9.99265254e-01, 7.34770321e-04],\n",
       "       [9.80644882e-01, 1.93551388e-02],\n",
       "       [9.96921718e-01, 3.07819690e-03],\n",
       "       [9.99703228e-01, 2.96697312e-04],\n",
       "       [9.96477783e-01, 3.52221821e-03],\n",
       "       [9.90896881e-01, 9.10311937e-03],\n",
       "       [9.94344711e-01, 5.65529987e-03],\n",
       "       [9.99558151e-01, 4.41891287e-04],\n",
       "       [9.83427286e-01, 1.65727120e-02],\n",
       "       [9.98219311e-01, 1.78063777e-03],\n",
       "       [9.90290582e-01, 9.70944948e-03],\n",
       "       [9.94431794e-01, 5.56819513e-03],\n",
       "       [9.91730392e-01, 8.26961920e-03],\n",
       "       [9.88071322e-01, 1.19287176e-02],\n",
       "       [9.88545358e-01, 1.14546586e-02],\n",
       "       [9.95425165e-01, 4.57487861e-03],\n",
       "       [9.99073625e-01, 9.26302222e-04],\n",
       "       [9.98540521e-01, 1.45948783e-03],\n",
       "       [9.82181966e-01, 1.78180784e-02],\n",
       "       [9.92016435e-01, 7.98361655e-03],\n",
       "       [9.56325412e-01, 4.36746068e-02],\n",
       "       [9.95918453e-01, 4.08151885e-03],\n",
       "       [9.81377661e-01, 1.86223909e-02],\n",
       "       [9.95144904e-01, 4.85506235e-03],\n",
       "       [9.97605562e-01, 2.39438331e-03],\n",
       "       [9.88459051e-01, 1.15410136e-02],\n",
       "       [9.92915511e-01, 7.08449120e-03],\n",
       "       [9.97489214e-01, 2.51081260e-03],\n",
       "       [9.89382029e-01, 1.06179463e-02],\n",
       "       [9.90845859e-01, 9.15419497e-03],\n",
       "       [9.97402191e-01, 2.59788218e-03],\n",
       "       [9.99995947e-01, 4.03599870e-06],\n",
       "       [9.99240398e-01, 7.59623537e-04],\n",
       "       [9.93312299e-01, 6.68773381e-03],\n",
       "       [9.96217906e-01, 3.78204952e-03],\n",
       "       [9.95973051e-01, 4.02693171e-03],\n",
       "       [9.96469498e-01, 3.53055610e-03],\n",
       "       [9.90521789e-01, 9.47827008e-03],\n",
       "       [9.87764895e-01, 1.22351553e-02],\n",
       "       [9.85441267e-01, 1.45587390e-02],\n",
       "       [9.98033941e-01, 1.96601846e-03],\n",
       "       [9.92983699e-01, 7.01635564e-03],\n",
       "       [9.89801586e-01, 1.01984693e-02],\n",
       "       [9.98814464e-01, 1.18561427e-03],\n",
       "       [9.91317868e-01, 8.68215691e-03],\n",
       "       [9.99429882e-01, 5.70092874e-04],\n",
       "       [9.93650258e-01, 6.34973729e-03],\n",
       "       [9.96904790e-01, 3.09518399e-03],\n",
       "       [9.86398518e-01, 1.36014502e-02],\n",
       "       [9.99421835e-01, 5.78197301e-04],\n",
       "       [9.93230700e-01, 6.76929252e-03],\n",
       "       [9.94370639e-01, 5.62939234e-03],\n",
       "       [9.61945057e-01, 3.80550064e-02],\n",
       "       [8.26727986e-01, 1.73271969e-01],\n",
       "       [9.73551810e-01, 2.64482498e-02],\n",
       "       [9.97885764e-01, 2.11416953e-03],\n",
       "       [9.93870258e-01, 6.12977566e-03],\n",
       "       [9.89907980e-01, 1.00920592e-02],\n",
       "       [9.96745467e-01, 3.25453095e-03],\n",
       "       [9.94548976e-01, 5.45105850e-03],\n",
       "       [9.99220014e-01, 7.79923284e-04],\n",
       "       [9.97222662e-01, 2.77735712e-03],\n",
       "       [9.95222270e-01, 4.77778865e-03],\n",
       "       [9.96989071e-01, 3.01093445e-03],\n",
       "       [9.98474658e-01, 1.52538775e-03],\n",
       "       [9.99557555e-01, 4.42433724e-04],\n",
       "       [9.96160626e-01, 3.83938220e-03],\n",
       "       [9.86300826e-01, 1.36991907e-02],\n",
       "       [9.71747994e-01, 2.82519273e-02],\n",
       "       [9.79705751e-01, 2.02942844e-02],\n",
       "       [9.94671166e-01, 5.32878190e-03],\n",
       "       [9.92677093e-01, 7.32287159e-03],\n",
       "       [9.98518646e-01, 1.48134143e-03],\n",
       "       [9.57655489e-01, 4.23445143e-02],\n",
       "       [9.93843436e-01, 6.15655910e-03],\n",
       "       [9.98984754e-01, 1.01523183e-03],\n",
       "       [9.69949007e-01, 3.00509706e-02],\n",
       "       [9.88540351e-01, 1.14596430e-02],\n",
       "       [9.90533710e-01, 9.46630258e-03],\n",
       "       [9.97826755e-01, 2.17316113e-03],\n",
       "       [9.38698530e-01, 6.13014922e-02],\n",
       "       [9.94495690e-01, 5.50431246e-03],\n",
       "       [9.77090955e-01, 2.29090564e-02],\n",
       "       [9.92647767e-01, 7.35229021e-03],\n",
       "       [9.99621630e-01, 3.78315337e-04],\n",
       "       [9.97283340e-01, 2.71660998e-03],\n",
       "       [9.96260285e-01, 3.73968692e-03],\n",
       "       [9.93972480e-01, 6.02749409e-03],\n",
       "       [9.98714447e-01, 1.28556928e-03],\n",
       "       [9.78859305e-01, 2.11406369e-02],\n",
       "       [9.88761961e-01, 1.12380739e-02],\n",
       "       [9.80616689e-01, 1.93832554e-02],\n",
       "       [9.98188555e-01, 1.81144348e-03],\n",
       "       [9.87417698e-01, 1.25823068e-02],\n",
       "       [9.97314632e-01, 2.68534571e-03],\n",
       "       [9.99736965e-01, 2.62998219e-04],\n",
       "       [9.89535868e-01, 1.04641970e-02],\n",
       "       [9.86919761e-01, 1.30802495e-02],\n",
       "       [9.87072289e-01, 1.29277864e-02],\n",
       "       [9.94888604e-01, 5.11145219e-03],\n",
       "       [9.78108406e-01, 2.18915287e-02],\n",
       "       [9.98876035e-01, 1.12398947e-03],\n",
       "       [9.87490475e-01, 1.25095770e-02],\n",
       "       [9.76699352e-01, 2.33006757e-02],\n",
       "       [9.99222875e-01, 7.77076755e-04],\n",
       "       [9.76080000e-01, 2.39200518e-02],\n",
       "       [9.98742998e-01, 1.25697593e-03],\n",
       "       [9.95610893e-01, 4.38907836e-03],\n",
       "       [9.90641773e-01, 9.35827382e-03],\n",
       "       [9.94069457e-01, 5.93052944e-03],\n",
       "       [9.99727309e-01, 2.72717240e-04],\n",
       "       [9.97815967e-01, 2.18406925e-03],\n",
       "       [9.89844680e-01, 1.01553742e-02],\n",
       "       [9.95992124e-01, 4.00791178e-03],\n",
       "       [9.85227942e-01, 1.47720641e-02],\n",
       "       [9.97232735e-01, 2.76726158e-03],\n",
       "       [9.92257476e-01, 7.74253625e-03],\n",
       "       [9.96618092e-01, 3.38193122e-03],\n",
       "       [9.95594323e-01, 4.40566661e-03],\n",
       "       [9.93823051e-01, 6.17696950e-03],\n",
       "       [9.73558545e-01, 2.64414102e-02],\n",
       "       [9.96093094e-01, 3.90688283e-03],\n",
       "       [9.84130144e-01, 1.58699192e-02],\n",
       "       [8.92315030e-01, 1.07684940e-01],\n",
       "       [8.87630701e-01, 1.12369321e-01],\n",
       "       [9.95104194e-01, 4.89579281e-03],\n",
       "       [9.97976601e-01, 2.02340656e-03],\n",
       "       [9.94389117e-01, 5.61087206e-03],\n",
       "       [9.98452663e-01, 1.54728850e-03],\n",
       "       [9.97638345e-01, 2.36165291e-03],\n",
       "       [9.88216341e-01, 1.17836492e-02],\n",
       "       [9.92133200e-01, 7.86682405e-03],\n",
       "       [9.98330057e-01, 1.66990585e-03],\n",
       "       [9.98097241e-01, 1.90271495e-03],\n",
       "       [9.96645033e-01, 3.35495966e-03],\n",
       "       [9.99825895e-01, 1.74134242e-04],\n",
       "       [9.97599185e-01, 2.40081153e-03],\n",
       "       [9.86920357e-01, 1.30796265e-02],\n",
       "       [9.82370257e-01, 1.76297668e-02],\n",
       "       [9.99550998e-01, 4.49005689e-04],\n",
       "       [9.98841703e-01, 1.15837657e-03],\n",
       "       [9.09867287e-01, 9.01326761e-02],\n",
       "       [9.68548894e-01, 3.14511061e-02],\n",
       "       [9.99458373e-01, 5.41627349e-04],\n",
       "       [9.94568467e-01, 5.43150585e-03],\n",
       "       [9.86170292e-01, 1.38297519e-02],\n",
       "       [9.93768334e-01, 6.23173779e-03],\n",
       "       [9.82688129e-01, 1.73119195e-02],\n",
       "       [9.98165786e-01, 1.83419185e-03],\n",
       "       [9.92907166e-01, 7.09288148e-03],\n",
       "       [9.92438495e-01, 7.56147318e-03],\n",
       "       [9.95664656e-01, 4.33535362e-03],\n",
       "       [9.98876512e-01, 1.12345105e-03],\n",
       "       [9.98544097e-01, 1.45589735e-03],\n",
       "       [9.86823559e-01, 1.31764887e-02],\n",
       "       [9.68927622e-01, 3.10723577e-02],\n",
       "       [9.98607695e-01, 1.39236078e-03],\n",
       "       [9.97893751e-01, 2.10624142e-03],\n",
       "       [9.95868444e-01, 4.13153041e-03],\n",
       "       [9.96565998e-01, 3.43398587e-03],\n",
       "       [9.92315531e-01, 7.68446177e-03],\n",
       "       [9.79692221e-01, 2.03077476e-02],\n",
       "       [9.98440564e-01, 1.55939325e-03],\n",
       "       [9.88254547e-01, 1.17454641e-02],\n",
       "       [9.96796429e-01, 3.20355059e-03],\n",
       "       [7.87914634e-01, 2.12085396e-01],\n",
       "       [9.96918797e-01, 3.08122765e-03],\n",
       "       [9.94354844e-01, 5.64511912e-03],\n",
       "       [9.96155322e-01, 3.84470751e-03],\n",
       "       [9.95057106e-01, 4.94289678e-03],\n",
       "       [9.87668693e-01, 1.23312902e-02],\n",
       "       [9.95197713e-01, 4.80227871e-03],\n",
       "       [9.92484629e-01, 7.51536712e-03],\n",
       "       [9.95933473e-01, 4.06660233e-03],\n",
       "       [9.87720907e-01, 1.22791156e-02],\n",
       "       [9.99587834e-01, 4.12200432e-04],\n",
       "       [9.94881868e-01, 5.11818053e-03],\n",
       "       [9.97798502e-01, 2.20151525e-03],\n",
       "       [9.98711467e-01, 1.28853286e-03],\n",
       "       [9.96859431e-01, 3.14058550e-03],\n",
       "       [9.98509109e-01, 1.49092381e-03],\n",
       "       [9.90270734e-01, 9.72932670e-03],\n",
       "       [9.96028543e-01, 3.97143234e-03],\n",
       "       [9.97390985e-01, 2.60894606e-03],\n",
       "       [9.97453868e-01, 2.54608318e-03],\n",
       "       [9.92914438e-01, 7.08560133e-03],\n",
       "       [9.93829548e-01, 6.17049215e-03],\n",
       "       [9.95699525e-01, 4.30052727e-03],\n",
       "       [9.94773090e-01, 5.22692967e-03],\n",
       "       [9.81152415e-01, 1.88475680e-02],\n",
       "       [9.93291855e-01, 6.70816051e-03],\n",
       "       [9.92323279e-01, 7.67666940e-03],\n",
       "       [9.98285830e-01, 1.71419280e-03],\n",
       "       [9.98853445e-01, 1.14656310e-03],\n",
       "       [9.98749018e-01, 1.25098194e-03],\n",
       "       [9.76495862e-01, 2.35041827e-02],\n",
       "       [9.98588741e-01, 1.41123915e-03],\n",
       "       [9.87262189e-01, 1.27377985e-02],\n",
       "       [9.88881052e-01, 1.11189606e-02],\n",
       "       [9.61069763e-01, 3.89302373e-02],\n",
       "       [9.91020858e-01, 8.97910912e-03],\n",
       "       [9.98597443e-01, 1.40251766e-03],\n",
       "       [9.97631192e-01, 2.36879312e-03],\n",
       "       [9.97321308e-01, 2.67867371e-03],\n",
       "       [9.97975051e-01, 2.02496722e-03],\n",
       "       [9.93450999e-01, 6.54899003e-03],\n",
       "       [9.94762838e-01, 5.23717469e-03],\n",
       "       [9.98913050e-01, 1.08690793e-03],\n",
       "       [9.91362035e-01, 8.63796473e-03],\n",
       "       [9.96126354e-01, 3.87370191e-03],\n",
       "       [9.98982728e-01, 1.01728830e-03],\n",
       "       [9.99543488e-01, 4.56439418e-04],\n",
       "       [9.99134481e-01, 8.65543843e-04],\n",
       "       [9.99462903e-01, 5.37113287e-04],\n",
       "       [9.92733836e-01, 7.26610608e-03],\n",
       "       [9.92689192e-01, 7.31077092e-03],\n",
       "       [9.99056518e-01, 9.43531224e-04],\n",
       "       [9.98378754e-01, 1.62125425e-03],\n",
       "       [9.97761726e-01, 2.23831623e-03],\n",
       "       [9.94486630e-01, 5.51335653e-03],\n",
       "       [9.95823979e-01, 4.17607650e-03],\n",
       "       [9.89857435e-01, 1.01425499e-02],\n",
       "       [9.99022365e-01, 9.77605581e-04],\n",
       "       [9.94650066e-01, 5.34993550e-03],\n",
       "       [9.14849997e-01, 8.51500705e-02],\n",
       "       [9.88790035e-01, 1.12099359e-02],\n",
       "       [9.79893804e-01, 2.01061908e-02],\n",
       "       [9.86635745e-01, 1.33642238e-02],\n",
       "       [9.91999984e-01, 7.99995102e-03],\n",
       "       [9.99173701e-01, 8.26325326e-04],\n",
       "       [9.77522910e-01, 2.24771071e-02],\n",
       "       [9.98300612e-01, 1.69942924e-03],\n",
       "       [9.88336980e-01, 1.16630485e-02],\n",
       "       [8.45676959e-01, 1.54323012e-01],\n",
       "       [9.68806505e-01, 3.11934911e-02],\n",
       "       [9.88493979e-01, 1.15059903e-02],\n",
       "       [9.91445899e-01, 8.55411123e-03],\n",
       "       [8.81437838e-01, 1.18562110e-01],\n",
       "       [9.98675406e-01, 1.32452080e-03],\n",
       "       [9.97152448e-01, 2.84752296e-03],\n",
       "       [9.76610661e-01, 2.33893115e-02],\n",
       "       [9.97752845e-01, 2.24716938e-03],\n",
       "       [9.93759453e-01, 6.24050200e-03],\n",
       "       [9.87044156e-01, 1.29558472e-02],\n",
       "       [4.50395499e-10, 1.00000000e+00],\n",
       "       [4.66759520e-05, 9.99953270e-01],\n",
       "       [1.72327855e-04, 9.99827623e-01],\n",
       "       [3.27750487e-04, 9.99672294e-01],\n",
       "       [4.39176301e-06, 9.99995589e-01],\n",
       "       [2.68204417e-03, 9.97317970e-01],\n",
       "       [7.94578623e-03, 9.92054224e-01],\n",
       "       [8.07782817e-06, 9.99991894e-01],\n",
       "       [1.01896748e-02, 9.89810348e-01],\n",
       "       [1.34557615e-10, 1.00000000e+00],\n",
       "       [2.15660990e-07, 9.99999762e-01],\n",
       "       [3.35905520e-06, 9.99996662e-01],\n",
       "       [7.07858635e-05, 9.99929190e-01],\n",
       "       [4.14074776e-07, 9.99999642e-01],\n",
       "       [5.13887198e-06, 9.99994874e-01],\n",
       "       [8.51406554e-08, 9.99999881e-01],\n",
       "       [5.31935543e-02, 9.46806490e-01],\n",
       "       [3.81938236e-07, 9.99999642e-01],\n",
       "       [6.28197441e-08, 9.99999881e-01],\n",
       "       [2.24822401e-07, 9.99999762e-01],\n",
       "       [2.55367286e-06, 9.99997497e-01],\n",
       "       [2.66762543e-03, 9.97332335e-01],\n",
       "       [1.91837971e-05, 9.99980807e-01],\n",
       "       [1.94724794e-06, 9.99998093e-01],\n",
       "       [1.38851069e-03, 9.98611450e-01],\n",
       "       [4.94035520e-03, 9.95059729e-01],\n",
       "       [3.90568466e-10, 1.00000000e+00],\n",
       "       [3.24243374e-05, 9.99967575e-01],\n",
       "       [1.91771862e-04, 9.99808252e-01],\n",
       "       [5.89556386e-08, 1.00000000e+00],\n",
       "       [6.16727571e-04, 9.99383211e-01],\n",
       "       [3.71102396e-06, 9.99996305e-01],\n",
       "       [9.10059086e-08, 9.99999881e-01],\n",
       "       [1.27895176e-03, 9.98721063e-01],\n",
       "       [4.19907956e-05, 9.99958038e-01],\n",
       "       [1.09013170e-04, 9.99890924e-01],\n",
       "       [3.71283131e-05, 9.99962926e-01],\n",
       "       [1.77059646e-05, 9.99982238e-01],\n",
       "       [7.99433503e-04, 9.99200523e-01],\n",
       "       [4.17264164e-06, 9.99995828e-01],\n",
       "       [9.36932676e-03, 9.90630686e-01],\n",
       "       [2.57338565e-02, 9.74266171e-01],\n",
       "       [4.31444118e-04, 9.99568522e-01],\n",
       "       [1.00736237e-08, 1.00000000e+00],\n",
       "       [7.33758847e-04, 9.99266207e-01],\n",
       "       [8.38526137e-09, 1.00000000e+00],\n",
       "       [3.21914695e-06, 9.99996781e-01],\n",
       "       [5.99736040e-06, 9.99994040e-01],\n",
       "       [1.65181082e-05, 9.99983430e-01],\n",
       "       [1.18399004e-03, 9.98816013e-01],\n",
       "       [2.50604330e-06, 9.99997497e-01],\n",
       "       [3.45182050e-10, 1.00000000e+00],\n",
       "       [6.69454457e-05, 9.99933004e-01],\n",
       "       [5.28730088e-05, 9.99947071e-01],\n",
       "       [3.31184609e-08, 1.00000000e+00],\n",
       "       [9.08470454e-08, 9.99999881e-01],\n",
       "       [1.34710397e-04, 9.99865294e-01],\n",
       "       [1.26095556e-05, 9.99987364e-01],\n",
       "       [5.20159228e-05, 9.99948025e-01],\n",
       "       [3.77148826e-05, 9.99962330e-01],\n",
       "       [2.55053401e-05, 9.99974489e-01],\n",
       "       [3.89236249e-07, 9.99999642e-01],\n",
       "       [3.62544233e-06, 9.99996424e-01],\n",
       "       [2.80918041e-03, 9.97190773e-01],\n",
       "       [1.85917947e-04, 9.99814093e-01],\n",
       "       [2.03466757e-12, 1.00000000e+00],\n",
       "       [1.70600629e-07, 9.99999881e-01],\n",
       "       [7.90188278e-05, 9.99920964e-01],\n",
       "       [1.09080270e-06, 9.99998927e-01],\n",
       "       [6.23753236e-04, 9.99376237e-01],\n",
       "       [1.10012857e-04, 9.99889970e-01],\n",
       "       [9.20371335e-10, 1.00000000e+00],\n",
       "       [2.78700172e-05, 9.99972105e-01],\n",
       "       [2.55350333e-05, 9.99974489e-01],\n",
       "       [1.76734186e-03, 9.98232603e-01],\n",
       "       [5.46942847e-09, 1.00000000e+00],\n",
       "       [1.30624830e-05, 9.99986887e-01],\n",
       "       [1.12970256e-05, 9.99988675e-01],\n",
       "       [5.79504529e-04, 9.99420524e-01],\n",
       "       [3.25644123e-06, 9.99996781e-01],\n",
       "       [1.96660985e-03, 9.98033345e-01],\n",
       "       [2.62910748e-06, 9.99997377e-01],\n",
       "       [3.11023835e-03, 9.96889770e-01],\n",
       "       [6.89480745e-04, 9.99310493e-01],\n",
       "       [2.26570696e-01, 7.73429275e-01],\n",
       "       [1.12624650e-06, 9.99998927e-01],\n",
       "       [3.97281535e-03, 9.96027231e-01],\n",
       "       [1.02524122e-03, 9.98974800e-01],\n",
       "       [2.43531112e-10, 1.00000000e+00],\n",
       "       [4.22379749e-08, 1.00000000e+00],\n",
       "       [2.13276689e-06, 9.99997854e-01],\n",
       "       [4.08435312e-08, 1.00000000e+00],\n",
       "       [7.99877465e-01, 2.00122461e-01],\n",
       "       [5.96302243e-08, 9.99999881e-01],\n",
       "       [3.21472071e-05, 9.99967813e-01],\n",
       "       [2.35733154e-04, 9.99764264e-01],\n",
       "       [1.01755010e-02, 9.89824474e-01],\n",
       "       [5.72339704e-05, 9.99942780e-01],\n",
       "       [8.00147245e-05, 9.99920011e-01],\n",
       "       [7.50563095e-06, 9.99992490e-01],\n",
       "       [1.50058157e-04, 9.99849916e-01],\n",
       "       [1.69928671e-06, 9.99998331e-01],\n",
       "       [1.53079091e-04, 9.99846935e-01],\n",
       "       [2.39915062e-06, 9.99997616e-01],\n",
       "       [2.31395159e-02, 9.76860523e-01],\n",
       "       [1.50552216e-06, 9.99998450e-01],\n",
       "       [2.14824297e-07, 9.99999762e-01],\n",
       "       [1.36121322e-04, 9.99863863e-01],\n",
       "       [4.23369414e-07, 9.99999523e-01],\n",
       "       [6.39155769e-05, 9.99936104e-01],\n",
       "       [2.14968099e-06, 9.99997854e-01],\n",
       "       [1.86339093e-04, 9.99813735e-01],\n",
       "       [6.01716579e-08, 9.99999881e-01],\n",
       "       [7.77640307e-05, 9.99922276e-01],\n",
       "       [2.11704802e-02, 9.78829503e-01],\n",
       "       [4.58830148e-02, 9.54117000e-01],\n",
       "       [3.23053246e-06, 9.99996781e-01],\n",
       "       [2.52826685e-05, 9.99974728e-01],\n",
       "       [1.38620123e-06, 9.99998569e-01],\n",
       "       [1.96209180e-06, 9.99998093e-01],\n",
       "       [1.27418645e-07, 9.99999881e-01],\n",
       "       [1.30725130e-06, 9.99998689e-01],\n",
       "       [9.06488349e-05, 9.99909401e-01],\n",
       "       [9.41837113e-03, 9.90581632e-01],\n",
       "       [4.00283793e-03, 9.95997190e-01],\n",
       "       [3.93181949e-08, 1.00000000e+00],\n",
       "       [3.34944725e-02, 9.66505527e-01],\n",
       "       [1.26441391e-02, 9.87355888e-01],\n",
       "       [7.66504963e-04, 9.99233484e-01],\n",
       "       [4.19323044e-07, 9.99999523e-01],\n",
       "       [1.24538352e-03, 9.98754621e-01],\n",
       "       [1.84736990e-07, 9.99999762e-01],\n",
       "       [1.06822990e-05, 9.99989271e-01],\n",
       "       [6.50751941e-09, 1.00000000e+00],\n",
       "       [7.19758555e-06, 9.99992847e-01],\n",
       "       [9.80004086e-04, 9.99019980e-01],\n",
       "       [2.24814430e-05, 9.99977469e-01],\n",
       "       [4.32828801e-06, 9.99995708e-01],\n",
       "       [1.43613297e-05, 9.99985695e-01],\n",
       "       [3.31184609e-08, 1.00000000e+00],\n",
       "       [2.71000857e-08, 1.00000000e+00],\n",
       "       [2.06613386e-05, 9.99979377e-01],\n",
       "       [2.41471821e-06, 9.99997616e-01],\n",
       "       [4.37040892e-09, 1.00000000e+00],\n",
       "       [6.54755640e-05, 9.99934554e-01],\n",
       "       [5.20327501e-03, 9.94796693e-01],\n",
       "       [1.20939575e-07, 9.99999881e-01],\n",
       "       [1.86197212e-06, 9.99998093e-01],\n",
       "       [4.57076915e-02, 9.54292297e-01],\n",
       "       [2.00383613e-04, 9.99799669e-01],\n",
       "       [4.37040892e-09, 1.00000000e+00],\n",
       "       [5.22813366e-08, 1.00000000e+00],\n",
       "       [1.19591175e-06, 9.99998808e-01],\n",
       "       [7.24737381e-10, 1.00000000e+00],\n",
       "       [1.20931771e-02, 9.87906814e-01],\n",
       "       [2.94583979e-09, 1.00000000e+00],\n",
       "       [2.98183513e-05, 9.99970198e-01],\n",
       "       [1.76547077e-02, 9.82345283e-01],\n",
       "       [3.77776232e-05, 9.99962211e-01],\n",
       "       [4.87038014e-11, 1.00000000e+00],\n",
       "       [1.72985985e-03, 9.98270154e-01],\n",
       "       [1.18641166e-10, 1.00000000e+00],\n",
       "       [2.19407535e-04, 9.99780595e-01],\n",
       "       [1.96398232e-05, 9.99980330e-01],\n",
       "       [2.82588531e-04, 9.99717414e-01],\n",
       "       [2.90544431e-05, 9.99970913e-01],\n",
       "       [1.51554701e-07, 9.99999881e-01],\n",
       "       [7.64943081e-07, 9.99999285e-01],\n",
       "       [5.99489540e-05, 9.99940038e-01],\n",
       "       [6.68282795e-04, 9.99331653e-01],\n",
       "       [1.24653132e-04, 9.99875307e-01],\n",
       "       [4.49750416e-07, 9.99999523e-01],\n",
       "       [8.58794258e-04, 9.99141216e-01],\n",
       "       [4.18473314e-03, 9.95815217e-01],\n",
       "       [4.01304789e-07, 9.99999642e-01],\n",
       "       [3.17679987e-05, 9.99968290e-01],\n",
       "       [1.24017929e-03, 9.98759866e-01],\n",
       "       [4.34418842e-02, 9.56558108e-01],\n",
       "       [2.47884984e-08, 1.00000000e+00],\n",
       "       [1.38635864e-04, 9.99861360e-01],\n",
       "       [4.21976143e-09, 1.00000000e+00],\n",
       "       [2.30470649e-03, 9.97695267e-01],\n",
       "       [4.70941464e-09, 1.00000000e+00],\n",
       "       [1.52710374e-04, 9.99847293e-01],\n",
       "       [1.13095048e-07, 9.99999881e-01],\n",
       "       [9.55587325e-08, 9.99999881e-01],\n",
       "       [1.22028950e-03, 9.98779714e-01],\n",
       "       [2.53529131e-09, 1.00000000e+00],\n",
       "       [2.71057972e-04, 9.99728978e-01],\n",
       "       [8.63743521e-10, 1.00000000e+00],\n",
       "       [1.87647183e-05, 9.99981284e-01],\n",
       "       [5.99377394e-01, 4.00622636e-01],\n",
       "       [2.14963020e-05, 9.99978542e-01],\n",
       "       [8.57910720e-08, 9.99999881e-01],\n",
       "       [1.13724127e-06, 9.99998808e-01],\n",
       "       [7.01065728e-05, 9.99929905e-01],\n",
       "       [5.20921958e-06, 9.99994755e-01],\n",
       "       [4.59656119e-03, 9.95403409e-01],\n",
       "       [1.54258625e-04, 9.99845743e-01],\n",
       "       [1.30819064e-10, 1.00000000e+00],\n",
       "       [1.86942543e-05, 9.99981284e-01],\n",
       "       [3.13070184e-03, 9.96869266e-01],\n",
       "       [2.70112599e-09, 1.00000000e+00],\n",
       "       [2.02430889e-12, 1.00000000e+00],\n",
       "       [2.52031884e-03, 9.97479737e-01],\n",
       "       [3.40214854e-07, 9.99999642e-01],\n",
       "       [4.12100635e-04, 9.99587953e-01],\n",
       "       [9.20371335e-10, 1.00000000e+00],\n",
       "       [1.48548770e-05, 9.99985099e-01],\n",
       "       [2.04475881e-09, 1.00000000e+00],\n",
       "       [2.10960866e-06, 9.99997854e-01],\n",
       "       [1.74217727e-02, 9.82578218e-01],\n",
       "       [2.41712827e-04, 9.99758303e-01],\n",
       "       [6.02041651e-03, 9.93979573e-01],\n",
       "       [5.16529290e-08, 1.00000000e+00],\n",
       "       [8.80447924e-02, 9.11955178e-01],\n",
       "       [6.74529656e-05, 9.99932528e-01],\n",
       "       [8.84676956e-06, 9.99991179e-01],\n",
       "       [3.74037024e-09, 1.00000000e+00],\n",
       "       [8.75931699e-04, 9.99124110e-01],\n",
       "       [2.48600296e-09, 1.00000000e+00],\n",
       "       [1.25675704e-02, 9.87432480e-01],\n",
       "       [6.88977266e-08, 9.99999881e-01],\n",
       "       [2.97115679e-04, 9.99702871e-01],\n",
       "       [2.68980239e-05, 9.99973059e-01],\n",
       "       [1.04941406e-04, 9.99895096e-01],\n",
       "       [2.44716830e-05, 9.99975562e-01],\n",
       "       [2.86071754e-05, 9.99971390e-01],\n",
       "       [1.93968752e-08, 1.00000000e+00],\n",
       "       [5.22076289e-06, 9.99994755e-01],\n",
       "       [3.74899294e-08, 1.00000000e+00],\n",
       "       [3.47873233e-02, 9.65212643e-01],\n",
       "       [5.94361063e-06, 9.99994040e-01],\n",
       "       [3.99556802e-06, 9.99995947e-01],\n",
       "       [2.26286352e-02, 9.77371335e-01],\n",
       "       [3.12757911e-05, 9.99968767e-01],\n",
       "       [5.95934353e-06, 9.99994040e-01],\n",
       "       [1.01485020e-02, 9.89851475e-01],\n",
       "       [1.89318613e-04, 9.99810755e-01],\n",
       "       [2.09628561e-05, 9.99979019e-01],\n",
       "       [3.34572942e-05, 9.99966502e-01],\n",
       "       [4.11979745e-05, 9.99958754e-01],\n",
       "       [9.66761509e-05, 9.99903321e-01],\n",
       "       [1.27481237e-09, 1.00000000e+00],\n",
       "       [2.28686915e-07, 9.99999762e-01],\n",
       "       [5.79099105e-05, 9.99942064e-01],\n",
       "       [3.09387542e-04, 9.99690652e-01],\n",
       "       [8.31096531e-06, 9.99991655e-01],\n",
       "       [1.50813692e-04, 9.99849200e-01],\n",
       "       [4.53160874e-06, 9.99995470e-01]], dtype=float32)"
      ]
     },
     "execution_count": 25,
     "metadata": {},
     "output_type": "execute_result"
    }
   ],
   "source": [
    "predictions_vgg16"
   ]
  },
  {
   "cell_type": "code",
   "execution_count": 27,
   "metadata": {},
   "outputs": [
    {
     "name": "stdout",
     "output_type": "stream",
     "text": [
      "First five predictions for the ResNet50-trained model:\n",
      "Negative (100.0% certainty)\n",
      "Negative (99.8% certainty)\n",
      "Negative (99.7% certainty)\n",
      "Negative (99.6% certainty)\n",
      "Negative (100.0% certainty)\n"
     ]
    }
   ],
   "source": [
    "predictions_resnet50 = resnet50_model.predict(test_generator)\n",
    "print(\"First five predictions for the ResNet50-trained model:\")\n",
    "for i in range(5):\n",
    "    print_prediction(predictions_resnet50[i])"
   ]
  },
  {
   "cell_type": "code",
   "execution_count": null,
   "metadata": {},
   "outputs": [],
   "source": []
  },
  {
   "cell_type": "code",
   "execution_count": null,
   "metadata": {},
   "outputs": [],
   "source": []
  },
  {
   "cell_type": "markdown",
   "metadata": {},
   "source": [
    "  "
   ]
  },
  {
   "cell_type": "markdown",
   "metadata": {
    "button": false,
    "new_sheet": false,
    "run_control": {
     "read_only": false
    }
   },
   "source": [
    "### Thank you for completing this lab!\n",
    "\n",
    "This notebook was created by Alex Aklson."
   ]
  },
  {
   "cell_type": "markdown",
   "metadata": {
    "button": false,
    "new_sheet": false,
    "run_control": {
     "read_only": false
    }
   },
   "source": [
    "This notebook is part of a course on **Coursera** called *AI Capstone Project with Deep Learning*. If you accessed this notebook outside the course, you can take this course online by clicking [here](https://cocl.us/DL0321EN_Coursera_Week4_LAB1)."
   ]
  },
  {
   "cell_type": "markdown",
   "metadata": {
    "button": false,
    "new_sheet": false,
    "run_control": {
     "read_only": false
    }
   },
   "source": [
    "<hr>\n",
    "\n",
    "Copyright &copy; 2020 [IBM Developer Skills Network](https://cognitiveclass.ai/?utm_source=bducopyrightlink&utm_medium=dswb&utm_campaign=bdu). This notebook and its source code are released under the terms of the [MIT License](https://bigdatauniversity.com/mit-license/)."
   ]
  }
 ],
 "metadata": {
  "kernelspec": {
   "display_name": "Python 3",
   "language": "python",
   "name": "python3"
  },
  "language_info": {
   "codemirror_mode": {
    "name": "ipython",
    "version": 3
   },
   "file_extension": ".py",
   "mimetype": "text/x-python",
   "name": "python",
   "nbconvert_exporter": "python",
   "pygments_lexer": "ipython3",
   "version": "3.8.8"
  }
 },
 "nbformat": 4,
 "nbformat_minor": 4
}
